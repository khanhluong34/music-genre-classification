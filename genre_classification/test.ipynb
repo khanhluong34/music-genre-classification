{
 "cells": [
  {
   "cell_type": "code",
   "execution_count": 1,
   "metadata": {},
   "outputs": [
    {
     "name": "stderr",
     "output_type": "stream",
     "text": [
      "c:\\Users\\Admin\\anaconda3\\envs\\pytorch\\lib\\site-packages\\scipy\\__init__.py:146: UserWarning: A NumPy version >=1.16.5 and <1.23.0 is required for this version of SciPy (detected version 1.23.4\n",
      "  warnings.warn(f\"A NumPy version >={np_minversion} and <{np_maxversion}\"\n"
     ]
    }
   ],
   "source": [
    "import pandas as pd\n",
    "from sklearn.model_selection import train_test_split\n",
    "data = pd.read_csv('data/data.csv')\n",
    "# concatenate song name and song lyric\n",
    "data['lyric'] = data['song name'] + \" \" + data['song lyric']\n",
    "# convert genre to numeric\n",
    "mapping = {'COUNTRY': 0,\n",
    "            'HIPHOP': 1,\n",
    "            'INDIE': 2,\n",
    "            'JAZZ': 3,\n",
    "            'POP': 4,\n",
    "            'ROCK': 5}\n",
    "data['genre'] = data['category'].map(mapping)\n",
    "\n",
    "lyric = data['lyric']\n",
    "genre = data['genre']\n",
    "\n",
    "# change\n",
    "# split data into train, val, test\n",
    "x_train, x_test, y_train, y_test = train_test_split(lyric, genre, test_size=0.056, random_state=43)\n",
    "# split train into train and val\n",
    "x_train, x_val, y_train, y_val = train_test_split(x_train, y_train, test_size=0.06, random_state=43)"
   ]
  },
  {
   "cell_type": "code",
   "execution_count": 5,
   "metadata": {},
   "outputs": [
    {
     "data": {
      "text/plain": [
       "7986"
      ]
     },
     "execution_count": 5,
     "metadata": {},
     "output_type": "execute_result"
    }
   ],
   "source": [
    "len(x_train)"
   ]
  },
  {
   "cell_type": "code",
   "execution_count": null,
   "metadata": {},
   "outputs": [],
   "source": [
    "x_train.reset_index(drop=True, inplace=True)"
   ]
  },
  {
   "cell_type": "code",
   "execution_count": 13,
   "metadata": {},
   "outputs": [
    {
     "data": {
      "text/plain": [
       "\"Luckenbach, Texas (Back to the Basics of Love) (feat. Willie Nelson) The only two things in life that make it worth livin'. Is guitars that tune good and firm feelin' women. I don't need my name in the marquee lights. I got my song and I got you with me tonight. Maybe it's time we got back to the basics of love. Let's go to Luckenbach, Texas. With Waylon and Willie and the boys. This successful life we're livin'. Got us feuding like the Hatfields and McCoys. Between Hank Williams' pain songs and. Newberry's train songs and Blue Eyes Cryin' in the Rain. Out in Luckenbach, Texas ain't nobody feelin' no pain. So baby, let's sell your diamond ring. Buy some boots and faded jeans and go away. This coat and tie is choking me. In your high society you cry all day. We've been so busy keepin' up with the Jones. Four car garage and we're still building on. Maybe it's time we got back to the basics of love. . Let's go to Luckenbach, Texas. With Waylon and Willie and the boys. This successful life we're livin' got us feudin'. Like the Hatfield and McCoys. Between Hank Williams' pain songs and. Newberry's train songs and Blue Eyes Cryin' in the Rain. Out in Luckenbach, Texas ain't nobody feelin' no pain. Let's go to Luckenbach, Texas. With Willie and Waylon and the boys. . This successful life we're livin's got us feudin'. Like the Hatfield and McCoys. Between Hank Williams' pain songs. And Jerry Jeff's train songs and Blue Eyes Cryin' in the Rain. Out in Luckenbach, Texas there ain't nobody feelin' no pain. . \""
      ]
     },
     "execution_count": 13,
     "metadata": {},
     "output_type": "execute_result"
    }
   ],
   "source": [
    "x_train[44]"
   ]
  },
  {
   "cell_type": "code",
   "execution_count": 4,
   "metadata": {},
   "outputs": [
    {
     "data": {
      "text/plain": [
       "numpy.ndarray"
      ]
     },
     "execution_count": 4,
     "metadata": {},
     "output_type": "execute_result"
    }
   ],
   "source": [
    "type(genre)"
   ]
  },
  {
   "cell_type": "code",
   "execution_count": 5,
   "metadata": {},
   "outputs": [
    {
     "data": {
      "text/plain": [
       "(9000,)"
      ]
     },
     "execution_count": 5,
     "metadata": {},
     "output_type": "execute_result"
    }
   ],
   "source": [
    "genre.shape"
   ]
  },
  {
   "cell_type": "code",
   "execution_count": 6,
   "metadata": {},
   "outputs": [
    {
     "name": "stderr",
     "output_type": "stream",
     "text": [
      "c:\\Users\\Admin\\anaconda3\\envs\\pytorch\\lib\\site-packages\\tqdm\\auto.py:22: TqdmWarning: IProgress not found. Please update jupyter and ipywidgets. See https://ipywidgets.readthedocs.io/en/stable/user_install.html\n",
      "  from .autonotebook import tqdm as notebook_tqdm\n",
      "c:\\Users\\Admin\\anaconda3\\envs\\pytorch\\lib\\site-packages\\scipy\\__init__.py:146: UserWarning: A NumPy version >=1.16.5 and <1.23.0 is required for this version of SciPy (detected version 1.23.4\n",
      "  warnings.warn(f\"A NumPy version >={np_minversion} and <{np_maxversion}\"\n"
     ]
    }
   ],
   "source": [
    "from utils import get_dataloader\n",
    "\n",
    "train_loader, valid_loader, test_loader = get_dataloader('data/data.csv')\n"
   ]
  },
  {
   "cell_type": "code",
   "execution_count": 7,
   "metadata": {},
   "outputs": [],
   "source": [
    "sample = next(iter(train_loader))"
   ]
  },
  {
   "cell_type": "code",
   "execution_count": null,
   "metadata": {},
   "outputs": [],
   "source": []
  }
 ],
 "metadata": {
  "kernelspec": {
   "display_name": "pytorch",
   "language": "python",
   "name": "python3"
  },
  "language_info": {
   "codemirror_mode": {
    "name": "ipython",
    "version": 3
   },
   "file_extension": ".py",
   "mimetype": "text/x-python",
   "name": "python",
   "nbconvert_exporter": "python",
   "pygments_lexer": "ipython3",
   "version": "3.10.8"
  },
  "orig_nbformat": 4
 },
 "nbformat": 4,
 "nbformat_minor": 2
}
