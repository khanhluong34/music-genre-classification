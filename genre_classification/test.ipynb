{
 "cells": [
  {
   "cell_type": "code",
   "execution_count": 1,
   "metadata": {},
   "outputs": [
    {
     "name": "stderr",
     "output_type": "stream",
     "text": [
      "c:\\Users\\Admin\\anaconda3\\envs\\pytorch\\lib\\site-packages\\scipy\\__init__.py:146: UserWarning: A NumPy version >=1.16.5 and <1.23.0 is required for this version of SciPy (detected version 1.23.4\n",
      "  warnings.warn(f\"A NumPy version >={np_minversion} and <{np_maxversion}\"\n"
     ]
    }
   ],
   "source": [
    "import pandas as pd\n",
    "from sklearn.model_selection import train_test_split\n",
    "data = pd.read_csv('data/data.csv')\n",
    "# concatenate song name and song lyric\n",
    "data['lyric'] = data['song name'] + \" \" + data['song lyric']\n",
    "# convert genre to numeric\n",
    "mapping = {'COUNTRY': 0,\n",
    "            'HIPHOP': 1,\n",
    "            'INDIE': 2,\n",
    "            'JAZZ': 3,\n",
    "            'POP': 4,\n",
    "            'ROCK': 5}\n",
    "data['genre'] = data['category'].map(mapping)\n",
    "\n",
    "lyric = data['lyric']\n",
    "genre = data['genre']\n",
    "\n",
    "# change\n",
    "# split data into train, val, test\n",
    "x_train, x_test, y_train, y_test = train_test_split(lyric, genre, test_size=0.056, random_state=43)\n",
    "# split train into train and val\n",
    "x_train, x_val, y_train, y_val = train_test_split(x_train, y_train, test_size=0.06, random_state=43)"
   ]
  },
  {
   "cell_type": "code",
   "execution_count": 2,
   "metadata": {},
   "outputs": [
    {
     "data": {
      "text/plain": [
       "7986"
      ]
     },
     "execution_count": 2,
     "metadata": {},
     "output_type": "execute_result"
    }
   ],
   "source": [
    "len(x_train)"
   ]
  },
  {
   "cell_type": "code",
   "execution_count": 3,
   "metadata": {},
   "outputs": [
    {
     "data": {
      "text/plain": [
       "2670    Sound of da Police Woop-woop!. That's the soun...\n",
       "3103    Not Into You Dude, she's just not into you. Go...\n",
       "5919    Too Bad Might be lying next to her. Lying to y...\n",
       "190     If I May Be So Bold It's no eternal mystery. Y...\n",
       "6500    Burn We, we don't have to worry 'bout nothing ...\n",
       "Name: lyric, dtype: object"
      ]
     },
     "execution_count": 3,
     "metadata": {},
     "output_type": "execute_result"
    }
   ],
   "source": [
    "x_train.head()"
   ]
  },
  {
   "cell_type": "code",
   "execution_count": 4,
   "metadata": {},
   "outputs": [
    {
     "data": {
      "text/plain": [
       "2670    1\n",
       "3103    2\n",
       "5919    3\n",
       "190     0\n",
       "6500    4\n",
       "Name: genre, dtype: int64"
      ]
     },
     "execution_count": 4,
     "metadata": {},
     "output_type": "execute_result"
    }
   ],
   "source": [
    "y_train.head()"
   ]
  },
  {
   "cell_type": "code",
   "execution_count": 11,
   "metadata": {},
   "outputs": [
    {
     "ename": "IndexError",
     "evalue": "single positional indexer is out-of-bounds",
     "output_type": "error",
     "traceback": [
      "\u001b[1;31m---------------------------------------------------------------------------\u001b[0m",
      "\u001b[1;31mIndexError\u001b[0m                                Traceback (most recent call last)",
      "\u001b[1;32me:\\Workspace\\music-genre-classification\\genre_classification\\test.ipynb Cell 5\u001b[0m in \u001b[0;36m<cell line: 1>\u001b[1;34m()\u001b[0m\n\u001b[1;32m----> <a href='vscode-notebook-cell:/e%3A/Workspace/music-genre-classification/genre_classification/test.ipynb#X35sZmlsZQ%3D%3D?line=0'>1</a>\u001b[0m y_train\u001b[39m.\u001b[39;49miloc[\u001b[39m7988\u001b[39;49m]\n",
      "File \u001b[1;32mc:\\Users\\Admin\\anaconda3\\envs\\pytorch\\lib\\site-packages\\pandas\\core\\indexing.py:1073\u001b[0m, in \u001b[0;36m_LocationIndexer.__getitem__\u001b[1;34m(self, key)\u001b[0m\n\u001b[0;32m   1070\u001b[0m axis \u001b[39m=\u001b[39m \u001b[39mself\u001b[39m\u001b[39m.\u001b[39maxis \u001b[39mor\u001b[39;00m \u001b[39m0\u001b[39m\n\u001b[0;32m   1072\u001b[0m maybe_callable \u001b[39m=\u001b[39m com\u001b[39m.\u001b[39mapply_if_callable(key, \u001b[39mself\u001b[39m\u001b[39m.\u001b[39mobj)\n\u001b[1;32m-> 1073\u001b[0m \u001b[39mreturn\u001b[39;00m \u001b[39mself\u001b[39;49m\u001b[39m.\u001b[39;49m_getitem_axis(maybe_callable, axis\u001b[39m=\u001b[39;49maxis)\n",
      "File \u001b[1;32mc:\\Users\\Admin\\anaconda3\\envs\\pytorch\\lib\\site-packages\\pandas\\core\\indexing.py:1625\u001b[0m, in \u001b[0;36m_iLocIndexer._getitem_axis\u001b[1;34m(self, key, axis)\u001b[0m\n\u001b[0;32m   1622\u001b[0m     \u001b[39mraise\u001b[39;00m \u001b[39mTypeError\u001b[39;00m(\u001b[39m\"\u001b[39m\u001b[39mCannot index by location index with a non-integer key\u001b[39m\u001b[39m\"\u001b[39m)\n\u001b[0;32m   1624\u001b[0m \u001b[39m# validate the location\u001b[39;00m\n\u001b[1;32m-> 1625\u001b[0m \u001b[39mself\u001b[39;49m\u001b[39m.\u001b[39;49m_validate_integer(key, axis)\n\u001b[0;32m   1627\u001b[0m \u001b[39mreturn\u001b[39;00m \u001b[39mself\u001b[39m\u001b[39m.\u001b[39mobj\u001b[39m.\u001b[39m_ixs(key, axis\u001b[39m=\u001b[39maxis)\n",
      "File \u001b[1;32mc:\\Users\\Admin\\anaconda3\\envs\\pytorch\\lib\\site-packages\\pandas\\core\\indexing.py:1557\u001b[0m, in \u001b[0;36m_iLocIndexer._validate_integer\u001b[1;34m(self, key, axis)\u001b[0m\n\u001b[0;32m   1555\u001b[0m len_axis \u001b[39m=\u001b[39m \u001b[39mlen\u001b[39m(\u001b[39mself\u001b[39m\u001b[39m.\u001b[39mobj\u001b[39m.\u001b[39m_get_axis(axis))\n\u001b[0;32m   1556\u001b[0m \u001b[39mif\u001b[39;00m key \u001b[39m>\u001b[39m\u001b[39m=\u001b[39m len_axis \u001b[39mor\u001b[39;00m key \u001b[39m<\u001b[39m \u001b[39m-\u001b[39mlen_axis:\n\u001b[1;32m-> 1557\u001b[0m     \u001b[39mraise\u001b[39;00m \u001b[39mIndexError\u001b[39;00m(\u001b[39m\"\u001b[39m\u001b[39msingle positional indexer is out-of-bounds\u001b[39m\u001b[39m\"\u001b[39m)\n",
      "\u001b[1;31mIndexError\u001b[0m: single positional indexer is out-of-bounds"
     ]
    }
   ],
   "source": [
    "y_train.iloc[7988]"
   ]
  },
  {
   "cell_type": "code",
   "execution_count": 5,
   "metadata": {},
   "outputs": [],
   "source": [
    "x_train.reset_index(drop=True, inplace=True)"
   ]
  },
  {
   "cell_type": "code",
   "execution_count": 6,
   "metadata": {},
   "outputs": [
    {
     "data": {
      "text/plain": [
       "0    Sound of da Police Woop-woop!. That's the soun...\n",
       "1    Not Into You Dude, she's just not into you. Go...\n",
       "2    Too Bad Might be lying next to her. Lying to y...\n",
       "3    If I May Be So Bold It's no eternal mystery. Y...\n",
       "4    Burn We, we don't have to worry 'bout nothing ...\n",
       "Name: lyric, dtype: object"
      ]
     },
     "execution_count": 6,
     "metadata": {},
     "output_type": "execute_result"
    }
   ],
   "source": [
    "x_train.head()"
   ]
  },
  {
   "cell_type": "code",
   "execution_count": 9,
   "metadata": {},
   "outputs": [
    {
     "data": {
      "text/plain": [
       "'MR MEMPHIS MASSACRE Aye, aye (aye). What the fuck!. Huh. G I live, G I die, ain\\'t shit gon\\' change, you know me hoe. Buck, buck, buck, here I come, Mr. Memphis Massacre. G I live, G I die, ain\\'t shit gon\\' change, you know me hoe. Buck, buck, buck, here I come, Mr. Memphis Massacre. G I live, G I die, ain\\'t shit gon\\' change, you know me hoe (get buck!). Buck, buck, buck, here I come, Mr. Memphis Massacre (get buck!). G I live, G I die, ain\\'t shit gon\\' change, you know me hoe (get buck!). Buck, buck, buck, here I come, Mr. Memphis Massacre (get buck!). I\\'m back and don\\'t give a fuck. Come play with Duke Deucifer. Back to getting the clubs Crunk. Get buck, if you think you tough. Buck, buck, what the fuck, get hit with the 12 slugs. \\',Bout action no capin\\', I\\'m packin\\' and macin\\', but stomped \\'em like a dam rug. Triple M, Triple M, Triple M, bitch. Told you hoes, don\\'t fuck with them. Criminals, criminals, criminals, bitch. Hell yeah, bitch I buck with them. Drop a stack on ya hat. You a mo\\'fuckin\\' rat. Let them cats put your ass on your mo\\'fuckin\\' back. It\\'s a bird it\\'s a plane, hell no, it\\'s a pack. That\\'s a fact, I\\'m a Mac, I ain\\'t never gon\\' slack. I talked to my witch, and she said I\\'ma blow-up. Sacrifice my friends, I\\'ll be wealthy but so lonesome. Lord, I\\'m so gifted I see things before they come up. Ancestors protecting me, so I always be one up. What the fuck!. G I live, G I die, ain\\'t shit gon\\' change, you know me hoe, aye, aye. Buck, buck, buck, here I come, Mr. Memphis Massacre. G I live, G I die, ain\\'t shit gon\\' change, you know me hoe. Buck, buck, buck, here I come, Mr. Memphis Massacre. G I live, G I die, ain\\'t shit gon\\' change, you know me hoe (get buck!). Buck, buck, buck, here I come, Mr. Memphis Massacre (get buck!). G I live, G I die, ain\\'t shit gon\\' change, you know me hoe (get buck!). Buck, buck, buck, here I come, Mr. Memphis Massacre (get buck!). Psychopath, deucifer. Looking like Lucifer. Got me buck wild, and I think I\\'m influenced. 05, 01, 1992 far from a coward boy, buck like a bull. Memphis my city. Black haven the illest. We known for then killings. They say that we\\'re cruel. Saturday night, we be pimpin\\' on Beale Street. Plenty freak hoes for niggas to pull. Drippin\\' no droppin\\'. Strap tight with that glocky. These hoes on my dick, \\'cause I\\'m clean as a deacon. Back in the day, hoe you know you wouldn\\'t talk to me. Watch I walk pass ya, no I\\'m not speaking. Not trying to compare myself into Jesus. God got me walking this earth for a reason. Duke Deuce, he cool till he turn to a demon. See that they dead, but why you keep squeezing. Steady dropping nukes. Lord, what they gon\\' do?. When I take the game over for the twenty deuce deuce. Pull up in a coop, no roof with my troops. Fuck niggas gon\" poof cause they know they gon\\' shoot. Still ridin\\' clean, getting neck like a crew. While you fuck niggas hating with your lame ass crew. Made men mafia. Ain\\'t no blocking us. Say fuck us, it\\'s been fuck you bitch!. '"
      ]
     },
     "execution_count": 9,
     "metadata": {},
     "output_type": "execute_result"
    }
   ],
   "source": [
    "x_train[7985]"
   ]
  },
  {
   "cell_type": "code",
   "execution_count": 4,
   "metadata": {},
   "outputs": [
    {
     "data": {
      "text/plain": [
       "numpy.ndarray"
      ]
     },
     "execution_count": 4,
     "metadata": {},
     "output_type": "execute_result"
    }
   ],
   "source": [
    "type(genre)"
   ]
  },
  {
   "cell_type": "code",
   "execution_count": 5,
   "metadata": {},
   "outputs": [
    {
     "data": {
      "text/plain": [
       "(9000,)"
      ]
     },
     "execution_count": 5,
     "metadata": {},
     "output_type": "execute_result"
    }
   ],
   "source": [
    "genre.shape"
   ]
  },
  {
   "cell_type": "code",
   "execution_count": null,
   "metadata": {},
   "outputs": [],
   "source": [
    "type(y_train[0])"
   ]
  },
  {
   "cell_type": "code",
   "execution_count": 12,
   "metadata": {},
   "outputs": [
    {
     "name": "stderr",
     "output_type": "stream",
     "text": [
      "c:\\Users\\Admin\\anaconda3\\envs\\pytorch\\lib\\site-packages\\tqdm\\auto.py:22: TqdmWarning: IProgress not found. Please update jupyter and ipywidgets. See https://ipywidgets.readthedocs.io/en/stable/user_install.html\n",
      "  from .autonotebook import tqdm as notebook_tqdm\n"
     ]
    }
   ],
   "source": [
    "from utils import get_dataloader\n",
    "\n",
    "train_loader, valid_loader, test_loader = get_dataloader('data/data.csv')\n"
   ]
  },
  {
   "cell_type": "code",
   "execution_count": null,
   "metadata": {},
   "outputs": [],
   "source": []
  }
 ],
 "metadata": {
  "kernelspec": {
   "display_name": "pytorch",
   "language": "python",
   "name": "python3"
  },
  "language_info": {
   "codemirror_mode": {
    "name": "ipython",
    "version": 3
   },
   "file_extension": ".py",
   "mimetype": "text/x-python",
   "name": "python",
   "nbconvert_exporter": "python",
   "pygments_lexer": "ipython3",
   "version": "3.10.8"
  },
  "orig_nbformat": 4
 },
 "nbformat": 4,
 "nbformat_minor": 2
}
